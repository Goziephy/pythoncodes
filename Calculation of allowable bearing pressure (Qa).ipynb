{
 "cells": [
  {
   "cell_type": "code",
   "execution_count": 2,
   "id": "a3adad55",
   "metadata": {},
   "outputs": [
    {
     "name": "stdout",
     "output_type": "stream",
     "text": [
      "0.10962561900000002\n",
      "0.104425056\n",
      "0.11082548400000002\n",
      "0.093624921\n",
      "0.09562413900000001\n",
      "0.09202277\n",
      "0.101626162\n",
      "0.093624804\n",
      "0.08641814400000002\n",
      "0.09682528900000002\n",
      "0.127629348\n",
      "0.09562282450000001\n",
      "0.10842710000000003\n",
      "0.10202486250000002\n",
      "0.129228101\n",
      "0.11522851199999999\n",
      "0.10482567600000002\n",
      "0.099624153\n",
      "0.118830888\n",
      "0.10482606900000001\n",
      "0.09922504800000001\n",
      "0.11122654900000002\n",
      "0.109628496\n",
      "0.11642880899999998\n",
      "0.0988245765\n",
      "0.12122999699999999\n",
      "0.08162080799999999\n",
      "0.11242964550000001\n",
      "0.106825899\n",
      "0.12562935900000002\n"
     ]
    }
   ],
   "source": [
    "with open(\"data.csv\", \"r\") as f:\n",
    "    Yo =16\n",
    "    n = 4\n",
    "    for line in f:\n",
    "        parts = line.split(',')\n",
    "        vs = float(parts[0])\n",
    "        vp = float(parts[1])\n",
    "        \n",
    "        y = Yo + 0.002 * vp\n",
    "        Qa = (0.1 * y * vs)/n\n",
    "        print(Qa)"
   ]
  },
  {
   "cell_type": "code",
   "execution_count": null,
   "id": "21f41c83",
   "metadata": {},
   "outputs": [],
   "source": []
  }
 ],
 "metadata": {
  "kernelspec": {
   "display_name": "Python 3",
   "language": "python",
   "name": "python3"
  },
  "language_info": {
   "codemirror_mode": {
    "name": "ipython",
    "version": 3
   },
   "file_extension": ".py",
   "mimetype": "text/x-python",
   "name": "python",
   "nbconvert_exporter": "python",
   "pygments_lexer": "ipython3",
   "version": "3.8.8"
  }
 },
 "nbformat": 4,
 "nbformat_minor": 5
}
